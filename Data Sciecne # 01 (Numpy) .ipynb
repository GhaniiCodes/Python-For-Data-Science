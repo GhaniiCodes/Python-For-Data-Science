{
 "cells": [
  {
   "cell_type": "markdown",
   "metadata": {},
   "source": [
    "# Module: NumPy Assignments\n",
    "## Lesson: NumPy\n",
    "### Assignment 1: Array Creation and Manipulation\n",
    "\n",
    "1. Create a NumPy array of shape (5, 5) filled with random integers between 1 and 20. Replace all the elements in the third column with 1.\n",
    "2. Create a NumPy array of shape (4, 4) with values from 1 to 16. Replace the diagonal elements with 0.\n",
    "\n",
    "### Assignment 2: Array Indexing and Slicing\n",
    "\n",
    "1. Create a NumPy array of shape (6, 6) with values from 1 to 36. Extract the sub-array consisting of the 3rd to 5th rows and 2nd to 4th columns.\n",
    "2. Create a NumPy array of shape (5, 5) with random integers. Extract the elements on the border.\n",
    "\n",
    "### Assignment 3: Array Operations\n",
    "\n",
    "1. Create two NumPy arrays of shape (3, 4) filled with random integers. Perform element-wise addition, subtraction, multiplication, and division.\n",
    "2. Create a NumPy array of shape (4, 4) with values from 1 to 16. Compute the row-wise and column-wise sum.\n",
    "\n",
    "### Assignment 4: Statistical Operations\n",
    "\n",
    "1. Create a NumPy array of shape (5, 5) filled with random integers. Compute the mean, median, standard deviation, and variance of the array.\n",
    "2. Create a NumPy array of shape (3, 3) with values from 1 to 9. Normalize the array (i.e., scale the values to have a mean of 0 and a standard deviation of 1).\n",
    "\n",
    "### Assignment 5: Broadcasting\n",
    "\n",
    "1. Create a NumPy array of shape (3, 3) filled with random integers. Add a 1D array of shape (3,) to each row of the 2D array using broadcasting.\n",
    "2. Create a NumPy array of shape (4, 4) filled with random integers. Subtract a 1D array of shape (4,) from each column of the 2D array using broadcasting.\n",
    "\n",
    "### Assignment 6: Linear Algebra\n",
    "\n",
    "1. Create a NumPy array of shape (3, 3) representing a matrix. Compute its determinant, inverse, and eigenvalues.\n",
    "2. Create two NumPy arrays of shape (2, 3) and (3, 2). Perform matrix multiplication on these arrays.\n",
    "\n",
    "### Assignment 7: Advanced Array Manipulation\n",
    "\n",
    "1. Create a NumPy array of shape (3, 3) with values from 1 to 9. Reshape the array to shape (1, 9) and then to shape (9, 1).\n",
    "2. Create a NumPy array of shape (5, 5) filled with random integers. Flatten the array and then reshape it back to (5, 5).\n",
    "\n",
    "### Assignment 8: Fancy Indexing and Boolean Indexing\n",
    "\n",
    "1. Create a NumPy array of shape (5, 5) filled with random integers. Use fancy indexing to extract the elements at the corners of the array.\n",
    "2. Create a NumPy array of shape (4, 4) filled with random integers. Use boolean indexing to set all elements greater than 10 to 10.\n",
    "\n",
    "### Assignment 9: Structured Arrays\n",
    "\n",
    "1. Create a structured array with fields 'name' (string), 'age' (integer), and 'weight' (float). Add some data and sort the array by age.\n",
    "2. Create a structured array with fields 'x' and 'y' (both integers). Add some data and compute the Euclidean distance between each pair of points.\n",
    "\n",
    "### Assignment 10: Masked Arrays\n",
    "\n",
    "1. Create a masked array of shape (4, 4) with random integers and mask the elements greater than 10. Compute the sum of the unmasked elements.\n",
    "2. Create a masked array of shape (3, 3) with random integers and mask the diagonal elements. Replace the masked elements with the mean of the unmasked elements."
   ]
  },
  {
   "cell_type": "code",
   "execution_count": 9,
   "id": "208853b4",
   "metadata": {},
   "outputs": [],
   "source": [
    "import numpy as np\n",
    "import numpy.ma as ma "
   ]
  },
  {
   "cell_type": "markdown",
   "id": "4ad6a5e9",
   "metadata": {},
   "source": [
    "# 01"
   ]
  },
  {
   "cell_type": "code",
   "execution_count": 14,
   "id": "36c130a2",
   "metadata": {},
   "outputs": [
    {
     "name": "stdout",
     "output_type": "stream",
     "text": [
      "[[ 1  2  3  4  5]\n",
      " [ 6  7  8  9 10]\n",
      " [11 12 13 14 15]\n",
      " [16 17 18 19 20]\n",
      " [12  8  3  1  0]]\n",
      "\n",
      " Updated Array : \n",
      " [[ 1  2  3  4  5]\n",
      " [ 6  7  8  9 10]\n",
      " [ 1  1  1  1  1]\n",
      " [16 17 18 19 20]\n",
      " [12  8  3  1  0]]\n"
     ]
    }
   ],
   "source": [
    "Array = np.array([[1,2,3,4,5],[6,7,8,9,10],[11,12,13,14,15],[16,17,18,19,20],[12,8,3,1,0]])\n",
    "print (Array)\n",
    "\n",
    "# Updating Third Row to One \n",
    "Array[2:3] = 1\n",
    "print (\"\\n\", \"Updated Array : \\n\", Array)"
   ]
  },
  {
   "cell_type": "code",
   "execution_count": 18,
   "id": "2fa39d26",
   "metadata": {},
   "outputs": [
    {
     "name": "stdout",
     "output_type": "stream",
     "text": [
      "[[ 1  2  3  4  5]\n",
      " [ 6  7  8  9 10]\n",
      " [11 12 13 14 15]\n",
      " [16 17 18 19 20]\n",
      " [12  8  3  1  0]]\n",
      "\n",
      " Updated Array \n",
      " [[ 0  2  3  4  5]\n",
      " [ 6  0  8  9 10]\n",
      " [11 12  0 14 15]\n",
      " [16 17 18  0 20]\n",
      " [12  8  3  1  0]]\n"
     ]
    }
   ],
   "source": [
    "Array = np.array([[1,2,3,4,5],[6,7,8,9,10],[11,12,13,14,15],[16,17,18,19,20],[12,8,3,1,0]])\n",
    "print (Array)\n",
    "\n",
    "# Updating Diagonal to One\n",
    "\n",
    "np.fill_diagonal(Array , 0)\n",
    "\n",
    "print (\"\\n Updated Array \\n\" , Array)\n",
    "\n",
    "\n",
    "\n",
    "\n"
   ]
  },
  {
   "cell_type": "markdown",
   "id": "cd6e870c",
   "metadata": {},
   "source": [
    "# 02"
   ]
  },
  {
   "cell_type": "code",
   "execution_count": 37,
   "id": "35811e3d",
   "metadata": {},
   "outputs": [
    {
     "name": "stdout",
     "output_type": "stream",
     "text": [
      "[[ 1  2  3  4  5  6]\n",
      " [ 7  8  9 10 11 12]\n",
      " [13 14 15 16 17 18]\n",
      " [19 20 21 22 23 24]\n",
      " [25 26 27 28 29 30]\n",
      " [31 32 33 34 35 36]]\n",
      "\n",
      " Sliced Array : \n",
      " [[14 15 16 17]\n",
      " [20 21 22 23]\n",
      " [26 27 28 29]]\n"
     ]
    }
   ],
   "source": [
    "Array = np.arange(1,37).reshape(6,6)\n",
    "\n",
    "print (Array)\n",
    "\n",
    "print (\"\\n Sliced Array : \\n\" ,Array[2:5 ,1:5])"
   ]
  },
  {
   "cell_type": "code",
   "execution_count": 49,
   "id": "98ebfbc2",
   "metadata": {},
   "outputs": [
    {
     "name": "stdout",
     "output_type": "stream",
     "text": [
      "[[ 1  2  3  4  5]\n",
      " [ 6  7  8  9 10]\n",
      " [11 12 13 14 15]\n",
      " [16 17 18 19 20]\n",
      " [21 22 23 24 25]]\n",
      "\n",
      " Sliced Array : \n",
      "  [[ 1  5]\n",
      " [21 25]]\n"
     ]
    }
   ],
   "source": [
    "Array = np.arange(1,26).reshape(5,5)\n",
    "print (Array)\n",
    "\n",
    "print (\"\\n Sliced Array : \\n \", Array[0::4 , 0::4 ])"
   ]
  },
  {
   "cell_type": "markdown",
   "id": "a5b8c3e5",
   "metadata": {},
   "source": [
    "# 03"
   ]
  },
  {
   "cell_type": "code",
   "execution_count": 51,
   "id": "b30ca3f0",
   "metadata": {},
   "outputs": [
    {
     "name": "stdout",
     "output_type": "stream",
     "text": [
      "First Array : \n",
      " [[15  5 11 19]\n",
      " [14 18  2 12]\n",
      " [ 2 17 10 12]]\n",
      "\n",
      "Second Array : \n",
      " [[ 2  2  2 13]\n",
      " [ 7 13  4 13]\n",
      " [ 2 14  4 10]]\n",
      "\n",
      " Addition : \n",
      "  [[17  7 13 32]\n",
      " [21 31  6 25]\n",
      " [ 4 31 14 22]]\n",
      "\n",
      " Substraction : \n",
      "  [[13  3  9  6]\n",
      " [ 7  5 -2 -1]\n",
      " [ 0  3  6  2]]\n",
      "\n",
      " Product : \n",
      "  [[ 30  10  22 247]\n",
      " [ 98 234   8 156]\n",
      " [  4 238  40 120]]\n",
      "\n",
      " Division : \n",
      "  [[7.5        2.5        5.5        1.46153846]\n",
      " [2.         1.38461538 0.5        0.92307692]\n",
      " [1.         1.21428571 2.5        1.2       ]]\n"
     ]
    }
   ],
   "source": [
    "Array_1 = np.random.randint(1,20 , size=(3,4))\n",
    "Array_2 = np.random.randint(1,20 , size=(3,4))\n",
    "\n",
    "print (\"First Array : \\n\", Array_1)\n",
    "print (\"\\nSecond Array : \\n\", Array_2)\n",
    "\n",
    "print (\"\\n Addition : \\n \", Array_1 + Array_2)\n",
    "print (\"\\n Substraction : \\n \", Array_1 - Array_2)\n",
    "print (\"\\n Product : \\n \", Array_1 * Array_2)\n",
    "print (\"\\n Division : \\n \", Array_1 / Array_2)"
   ]
  },
  {
   "cell_type": "code",
   "execution_count": 55,
   "id": "178d1601",
   "metadata": {},
   "outputs": [
    {
     "name": "stdout",
     "output_type": "stream",
     "text": [
      "Array:\n",
      "[[ 1  2  3  4]\n",
      " [ 5  6  7  8]\n",
      " [ 9 10 11 12]\n",
      " [13 14 15 16]]\n",
      "\n",
      "Row-wise sum:\n",
      "[10 26 42 58]\n",
      "\n",
      "Column-wise sum:\n",
      "[28 32 36 40]\n"
     ]
    }
   ],
   "source": [
    "arr = np.arange(1, 17).reshape(4, 4)\n",
    "\n",
    "# Row Wise Sum\n",
    "row_sum = arr.sum(axis=1)\n",
    "\n",
    "# Column-wise sum\n",
    "col_sum = arr.sum(axis=0)\n",
    "\n",
    "# Print results\n",
    "print(\"Array:\")\n",
    "print(arr)\n",
    "print(\"\\nRow-wise sum:\")\n",
    "print(row_sum)\n",
    "print(\"\\nColumn-wise sum:\")\n",
    "print(col_sum)"
   ]
  },
  {
   "cell_type": "markdown",
   "id": "807e5f2c",
   "metadata": {},
   "source": [
    "# 04"
   ]
  },
  {
   "cell_type": "code",
   "execution_count": 60,
   "id": "98db96ab",
   "metadata": {},
   "outputs": [
    {
     "name": "stdout",
     "output_type": "stream",
     "text": [
      "[[24 14 28  8]\n",
      " [11 24  4 29]\n",
      " [16 27 26 26]\n",
      " [25  7 17 21]]\n",
      "\n",
      "Mean : \n",
      " 19.1875\n",
      "\n",
      "Variance : \n",
      " 64.02734375\n",
      "\n",
      "Standard Deviation : \n",
      " 8.00170880187476\n",
      "\n",
      "Normalization : \n",
      " [[ 0.60143403 -0.64829902  1.10132726 -1.39813886]\n",
      " [-1.02321894  0.60143403 -1.89803208  1.22630056]\n",
      " [-0.39835241  0.97635395  0.85138064  0.85138064]\n",
      " [ 0.72640734 -1.52311216 -0.27337911  0.22651412]]\n"
     ]
    }
   ],
   "source": [
    "Array = np.random.randint(1,30 , size=(4,4))\n",
    "\n",
    "print (Array)\n",
    "\n",
    "print (f\"\\nMean : \\n {Array.mean()}\")\n",
    "print (f\"\\nVariance : \\n {Array.var()}\")\n",
    "print (f\"\\nStandard Deviation : \\n {Array.std()}\")\n",
    "print (f\"\\nNormalization : \\n {(Array - Array.mean()) / Array.std()}\")"
   ]
  },
  {
   "cell_type": "code",
   "execution_count": 63,
   "id": "795b09dd",
   "metadata": {},
   "outputs": [
    {
     "name": "stdout",
     "output_type": "stream",
     "text": [
      "Original Array : [[1 2 3]\n",
      " [4 5 6]\n",
      " [7 8 9]]\n",
      "\n",
      "Normalized Array : \n",
      "[[-1.54919334 -1.161895   -0.77459667]\n",
      " [-0.38729833  0.          0.38729833]\n",
      " [ 0.77459667  1.161895    1.54919334]]\n",
      "Mean : 0.0\n",
      "Standard Deviation : 1.0\n"
     ]
    }
   ],
   "source": [
    "Array = np.arange(1,10).reshape(3,3)\n",
    "\n",
    "print (f\"Original Array : {Array}\")\n",
    "\n",
    "Normalized_Array = (Array - Array.mean()) / Array.std()\n",
    "print (f\"\\nNormalized Array : \\n{Normalized_Array}\")\n",
    "\n",
    "print (f\"Mean : {Normalized_Array.mean()}\") \n",
    "print (f\"Standard Deviation : {Normalized_Array.std()}\") "
   ]
  },
  {
   "cell_type": "markdown",
   "id": "404637ef",
   "metadata": {},
   "source": [
    "# 05"
   ]
  },
  {
   "cell_type": "code",
   "execution_count": 69,
   "id": "1b96fe73",
   "metadata": {},
   "outputs": [
    {
     "name": "stdout",
     "output_type": "stream",
     "text": [
      "Original Array 01:\n",
      " [[ 2 15  4]\n",
      " [27 12  8]\n",
      " [ 5  8 28]]\n",
      "\n",
      "Original Array 02 :\n",
      " [23  8 20]\n",
      "\n",
      "Addition Result :\n",
      " [[25 23 24]\n",
      " [50 20 28]\n",
      " [28 16 48]]\n"
     ]
    }
   ],
   "source": [
    "Array_1 = np.random.randint(1,30 , size=(3,3))\n",
    "Array_2 = np.random.randint(1,30 , size=(3,))\n",
    "\n",
    "print (f\"Original Array 01:\\n {Array_1}\")\n",
    "print (f\"\\nOriginal Array 02 :\\n {Array_2}\")\n",
    "\n",
    "\n",
    "print (f\"\\nAddition Result :\\n {Array_1 + Array_2}\")"
   ]
  },
  {
   "cell_type": "code",
   "execution_count": 70,
   "id": "d45af3b1",
   "metadata": {},
   "outputs": [
    {
     "name": "stdout",
     "output_type": "stream",
     "text": [
      "Original Array 01:\n",
      " [[18 23 22]\n",
      " [ 8 21  6]\n",
      " [ 3 24 13]]\n",
      "\n",
      "Original Array 02 :\n",
      " [ 5 13  9]\n",
      "\n",
      "Substraction Result :\n",
      " [[13 10 13]\n",
      " [ 3  8 -3]\n",
      " [-2 11  4]]\n"
     ]
    }
   ],
   "source": [
    "Array_1 = np.random.randint(1,30 , size=(3,3))\n",
    "Array_2 = np.random.randint(1,30 , size=(3,))\n",
    "\n",
    "print (f\"Original Array 01:\\n {Array_1}\")\n",
    "print (f\"\\nOriginal Array 02 :\\n {Array_2}\")\n",
    "\n",
    "\n",
    "print (f\"\\nSubstraction Result :\\n {Array_1 - Array_2}\")"
   ]
  },
  {
   "cell_type": "markdown",
   "id": "2e858c27",
   "metadata": {},
   "source": [
    "# 06"
   ]
  },
  {
   "cell_type": "code",
   "execution_count": 71,
   "id": "12e410f9",
   "metadata": {},
   "outputs": [
    {
     "name": "stdout",
     "output_type": "stream",
     "text": [
      "Determinant: 0.0\n",
      "Matrix is singular, inverse does not exist.\n",
      "Eigenvalues: [ 1.61168440e+01 -1.11684397e+00 -1.30367773e-15]\n"
     ]
    }
   ],
   "source": [
    "# Create a NumPy array representing a 3x3 matrix\n",
    "matrix = np.array([[1, 2, 3],\n",
    "                   [4, 5, 6],\n",
    "                   [7, 8, 9]])\n",
    "\n",
    "# Compute the determinant\n",
    "det = np.linalg.det(matrix)\n",
    "print(f\"Determinant: {det}\")\n",
    "\n",
    "# Compute the inverse (only if determinant is non-zero)\n",
    "if det != 0:\n",
    "    inv = np.linalg.inv(matrix)\n",
    "    print(f\"Inverse:\\n{inv}\")\n",
    "else:\n",
    "    print(\"Matrix is singular, inverse does not exist.\")\n",
    "\n",
    "# Compute the eigenvalues\n",
    "eigenvalues = np.linalg.eigvals(matrix)\n",
    "print(f\"Eigenvalues: {eigenvalues}\")\n"
   ]
  },
  {
   "cell_type": "code",
   "execution_count": 73,
   "id": "9febb681",
   "metadata": {},
   "outputs": [
    {
     "name": "stdout",
     "output_type": "stream",
     "text": [
      "Matrix # 01 : \n",
      "[[29  2 18]\n",
      " [10 22 18]\n",
      " [ 6 17  2]]\n",
      "\n",
      "Matrix # 02 : \n",
      "[[24 15 19]\n",
      " [ 7 16  4]\n",
      " [ 9  7  1]]\n",
      "\n",
      "Product : \n",
      "[[872 593 577]\n",
      " [556 628 296]\n",
      " [281 376 184]]\n"
     ]
    }
   ],
   "source": [
    "Array_1 = np.random.randint(1,30 , size=(3,3))\n",
    "Array_2 = np.random.randint(1,30 , size=(3,3))\n",
    "\n",
    "print (f\"Matrix # 01 : \\n{Array_1}\")\n",
    "print (f\"\\nMatrix # 02 : \\n{Array_2}\")\n",
    "\n",
    "print (f\"\\nProduct : \\n{np.dot(Array_1 , Array_2)}\")"
   ]
  },
  {
   "cell_type": "markdown",
   "id": "98c4eada",
   "metadata": {},
   "source": [
    "# 07"
   ]
  },
  {
   "cell_type": "code",
   "execution_count": 76,
   "id": "85d565a3",
   "metadata": {},
   "outputs": [
    {
     "name": "stdout",
     "output_type": "stream",
     "text": [
      "Original Array : \n",
      "[[1 2 3]\n",
      " [4 5 6]\n",
      " [7 8 9]]\n",
      "\n",
      "Reshaped 01 : \n",
      "[[1 2 3 4 5 6 7 8 9]]\n",
      "\n",
      "Reshaped 02 : \n",
      "[[1]\n",
      " [2]\n",
      " [3]\n",
      " [4]\n",
      " [5]\n",
      " [6]\n",
      " [7]\n",
      " [8]\n",
      " [9]]\n"
     ]
    }
   ],
   "source": [
    "Array = np.arange(1,10).reshape(3,3)\n",
    "\n",
    "Reshaped_1 = Array.reshape(1,9)\n",
    "Reshaped_2 = Array.reshape(9,1)\n",
    "\n",
    "print (f\"Original Array : \\n{Array}\")\n",
    "print (f\"\\nReshaped 01 : \\n{Reshaped_1}\")\n",
    "print (f\"\\nReshaped 02 : \\n{Reshaped_2}\")"
   ]
  },
  {
   "cell_type": "code",
   "execution_count": 78,
   "id": "df8baa46",
   "metadata": {},
   "outputs": [
    {
     "name": "stdout",
     "output_type": "stream",
     "text": [
      "Array : \n",
      "[[13 79 28  9 76]\n",
      " [96 13 22  2 83]\n",
      " [20 81 25 92 86]\n",
      " [90 12 20 36  8]\n",
      " [18 64 10  4 23]]\n",
      "\n",
      "Flattened Array : \n",
      "[13 79 28  9 76 96 13 22  2 83 20 81 25 92 86 90 12 20 36  8 18 64 10  4\n",
      " 23]\n",
      "\n",
      "Reshaped : \n",
      "[[13 79 28  9 76]\n",
      " [96 13 22  2 83]\n",
      " [20 81 25 92 86]\n",
      " [90 12 20 36  8]\n",
      " [18 64 10  4 23]]\n"
     ]
    }
   ],
   "source": [
    "Array = np.random.randint(100 , size=(5,5))\n",
    "\n",
    "print (f\"Array : \\n{Array}\")\n",
    "\n",
    "Flattened_Array = Array.flatten()\n",
    "\n",
    "print (f\"\\nFlattened Array : \\n{Flattened_Array}\")\n",
    "print (f\"\\nReshaped : \\n{Flattened_Array.reshape(5,5)}\")"
   ]
  },
  {
   "cell_type": "markdown",
   "id": "6749d621",
   "metadata": {},
   "source": [
    "# 08"
   ]
  },
  {
   "cell_type": "code",
   "execution_count": 92,
   "id": "a2900e96",
   "metadata": {},
   "outputs": [
    {
     "name": "stdout",
     "output_type": "stream",
     "text": [
      "Array:\n",
      " [[ 1  0  2  8  8]\n",
      " [13  8 13 16  6]\n",
      " [ 7  1  1  0  0]\n",
      " [16 14  4 17 10]\n",
      " [ 4  7 13 10  8]]\n",
      "\n",
      "Corners:\n",
      " [1 8 4 8]\n"
     ]
    }
   ],
   "source": [
    "arr1 = np.random.randint(20, size=(5, 5))\n",
    "\n",
    "\n",
    "corners = arr1[[0, 0, 4, 4], [0, 4, 0, 4]]\n",
    "\n",
    "print(\"Array:\\n\", arr1)\n",
    "print(\"\\nCorners:\\n\", corners)\n"
   ]
  },
  {
   "cell_type": "code",
   "execution_count": 93,
   "id": "115a3c5b",
   "metadata": {},
   "outputs": [
    {
     "name": "stdout",
     "output_type": "stream",
     "text": [
      "Array : \n",
      "[[16  9 11  8]\n",
      " [17  8 19 14]\n",
      " [16 15  2  4]\n",
      " [ 5 19 13 19]]\n",
      "\n",
      "Array after modification:\n",
      " [[10  9 10  8]\n",
      " [10  8 10 10]\n",
      " [10 10  2  4]\n",
      " [ 5 10 10 10]]\n"
     ]
    }
   ],
   "source": [
    "Array = np.random.randint(20, size=(4, 4))\n",
    "\n",
    "print (f\"Array : \\n{Array}\")\n",
    "Array[Array > 10] = 10\n",
    "\n",
    "print(\"\\nArray after modification:\\n\", Array)\n"
   ]
  },
  {
   "cell_type": "markdown",
   "id": "b519e610",
   "metadata": {},
   "source": [
    "# 09"
   ]
  },
  {
   "cell_type": "code",
   "execution_count": 5,
   "id": "8e644307",
   "metadata": {},
   "outputs": [
    {
     "name": "stdout",
     "output_type": "stream",
     "text": [
      "[('Liam', 21, 64. ) ('Charlie', 22, 68. ) ('Olivia', 22, 53.8)\n",
      " ('Hannah', 23, 54.3) ('Eva', 24, 58.1) ('Alice', 25, 55.5)\n",
      " ('Mia', 25, 59.7) ('Ian', 26, 70.5) ('Grace', 27, 62.8)\n",
      " ('David', 28, 65.2) ('Julia', 29, 68.9) ('Bob', 30, 72.3)\n",
      " ('Noah', 30, 71.2) ('Kevin', 31, 74.6) ('Frank', 32, 75.4)]\n"
     ]
    }
   ],
   "source": [
    "Array = [(\"Name\" , \"U25\") , (\"Age\" , \"i4\") , (\"Weight\" , \"f4\")]\n",
    "\n",
    "Data = np.array([('Alice', 25, 55.5), ('Bob', 30, 72.3), ('Charlie', 22, 68. ),\n",
    " ('David', 28, 65.2), ('Eva', 24, 58.1), ('Frank', 32, 75.4),\n",
    " ('Grace', 27, 62.8), ('Hannah', 23, 54.3), ('Ian', 26, 70.5),\n",
    " ('Julia', 29, 68.9), ('Kevin', 31, 74.6), ('Liam', 21, 64. ),\n",
    " ('Mia', 25, 59.7) ,('Noah', 30, 71.2), ('Olivia', 22, 53.8),] , dtype=Array)\n",
    "\n",
    "print (np.sort(Data, order=\"Age\"))\n"
   ]
  },
  {
   "cell_type": "code",
   "execution_count": 8,
   "id": "7a6f67a4",
   "metadata": {},
   "outputs": [
    {
     "name": "stdout",
     "output_type": "stream",
     "text": [
      "Pairwise Euclidean Distances:\n",
      "[[  0.           5.          13.          10.77032961  29.06888371\n",
      "  100.          44.64302857]\n",
      " [  5.           0.           8.24621125   6.08276253  24.08318916\n",
      "   97.08243919  40.02499219]\n",
      " [ 13.           8.24621125   0.           2.23606798  17.20465053\n",
      "   95.75489544  31.78049716]\n",
      " [ 10.77032961   6.08276253   2.23606798   0.          19.20937271\n",
      "   96.5194281   33.95585369]\n",
      " [ 29.06888371  24.08318916  17.20465053  19.20937271   0.\n",
      "   83.93449827  22.13594362]\n",
      " [100.          97.08243919  95.75489544  96.5194281   83.93449827\n",
      "    0.          97.94386147]\n",
      " [ 44.64302857  40.02499219  31.78049716  33.95585369  22.13594362\n",
      "   97.94386147   0.        ]]\n"
     ]
    }
   ],
   "source": [
    "dtype = [('x', 'i4'), ('y', 'i4')]\n",
    "\n",
    "\n",
    "points = np.array([\n",
    "    (0, 0),\n",
    "    (3, 4),\n",
    "    (5, 12),\n",
    "    (4,10),\n",
    "    (19,22),\n",
    "    (100,0),\n",
    "    (12,43),\n",
    "], dtype=dtype)\n",
    "\n",
    "# Extract the x and y values as separate arrays\n",
    "x_coords = points['x']\n",
    "y_coords = points['y']\n",
    "\n",
    "# Compute the pairwise Euclidean distances\n",
    "n_points = len(points)\n",
    "distances = np.zeros((n_points, n_points))  # Initialize a distance matrix\n",
    "\n",
    "for i in range(n_points):\n",
    "    for j in range(n_points):\n",
    "        distances[i, j] = np.sqrt((x_coords[i] - x_coords[j])**2 + (y_coords[i] - y_coords[j])**2)\n",
    "\n",
    "# Display the distance matrix\n",
    "print(\"Pairwise Euclidean Distances:\")\n",
    "print(distances)\n"
   ]
  },
  {
   "cell_type": "markdown",
   "id": "265bc604",
   "metadata": {},
   "source": [
    "# 10"
   ]
  },
  {
   "cell_type": "code",
   "execution_count": 16,
   "id": "c5388235",
   "metadata": {},
   "outputs": [
    {
     "name": "stdout",
     "output_type": "stream",
     "text": [
      "Original Array :\n",
      " [[11  2 15 12]\n",
      " [ 9 15  4  2]\n",
      " [10 11  8 11]\n",
      " [18  5 17 12]]\n",
      "\n",
      "Masked Array :\n",
      " [[-- 2 -- --]\n",
      " [9 -- 4 2]\n",
      " [10 -- 8 --]\n",
      " [-- 5 -- --]]\n",
      "\n",
      "Sum Of  Masked Array :\n",
      " 40\n"
     ]
    }
   ],
   "source": [
    "Array = np.random.randint(20 , size=(4,4))\n",
    "\n",
    "Masked_Array = ma.masked_greater(Array , 10)\n",
    "\n",
    "Sum = Masked_Array.sum()\n",
    "\n",
    "print (f\"Original Array :\\n {Array}\")\n",
    "print (f\"\\nMasked Array :\\n {Masked_Array}\")\n",
    "print (f\"\\nSum Of  Masked Array :\\n {Sum}\")\n",
    "\n"
   ]
  },
  {
   "cell_type": "code",
   "execution_count": 30,
   "id": "047f8d5b",
   "metadata": {},
   "outputs": [
    {
     "name": "stdout",
     "output_type": "stream",
     "text": [
      "Original Array :\n",
      " [[10 18 16]\n",
      " [12  5 15]\n",
      " [17  3  0]]\n",
      "\n",
      "Masked Array :\n",
      " [[ 0 18 16]\n",
      " [12  0 15]\n",
      " [17  3  0]]\n",
      "Mean : 9.0\n",
      "\n",
      " Daigonal Filled With Mean : \n",
      "[[ 9 18 16]\n",
      " [12  9 15]\n",
      " [17  3  9]]\n"
     ]
    }
   ],
   "source": [
    "Array = np.random.randint(20 , size=(3,3))\n",
    "\n",
    "print (f\"Original Array :\\n {Array}\")\n",
    "\n",
    "Masked_Array = np.fill_diagonal(Array , 0)\n",
    "\n",
    "\n",
    "print (f\"\\nMasked Array :\\n {Array}\")\n",
    "\n",
    "Mean = Array.mean()\n",
    "print (f\"Mean : {Mean}\")\n",
    "\n",
    "np.fill_diagonal(Array , Mean)\n",
    "\n",
    "print (f\"\\n Daigonal Filled With Mean : \\n{Array}\")\n",
    "\n",
    "\n"
   ]
  },
  {
   "cell_type": "code",
   "execution_count": null,
   "id": "d16bff0d",
   "metadata": {},
   "outputs": [],
   "source": []
  }
 ],
 "metadata": {
  "kernelspec": {
   "display_name": "myenv",
   "language": "python",
   "name": "python3"
  },
  "language_info": {
   "codemirror_mode": {
    "name": "ipython",
    "version": 3
   },
   "file_extension": ".py",
   "mimetype": "text/x-python",
   "name": "python",
   "nbconvert_exporter": "python",
   "pygments_lexer": "ipython3",
   "version": "3.13.0"
  }
 },
 "nbformat": 4,
 "nbformat_minor": 5
}
